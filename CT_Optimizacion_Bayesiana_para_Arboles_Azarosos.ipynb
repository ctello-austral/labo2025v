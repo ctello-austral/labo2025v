{
  "nbformat": 4,
  "nbformat_minor": 0,
  "metadata": {
    "colab": {
      "provenance": [],
      "authorship_tag": "ABX9TyNn5Hq1uGR9A2jMCCW3xY/m",
      "include_colab_link": true
    },
    "kernelspec": {
      "name": "python3",
      "display_name": "Python 3"
    },
    "language_info": {
      "name": "python"
    }
  },
  "cells": [
    {
      "cell_type": "markdown",
      "metadata": {
        "id": "view-in-github",
        "colab_type": "text"
      },
      "source": [
        "<a href=\"https://colab.research.google.com/github/ctello-austral/labo2025v/blob/main/CT_Optimizacion_Bayesiana_para_Arboles_Azarosos.ipynb\" target=\"_parent\"><img src=\"https://colab.research.google.com/assets/colab-badge.svg\" alt=\"Open In Colab\"/></a>"
      ]
    },
    {
      "cell_type": "code",
      "execution_count": null,
      "metadata": {
        "id": "ilcN55B0w2fL"
      },
      "outputs": [],
      "source": [
        "# primero establecer el Runtime de Python 3\n",
        "from google.colab import drive\n",
        "drive.mount('/content/.drive')"
      ]
    },
    {
      "cell_type": "code",
      "source": [
        "%%shell\n",
        "\n",
        "mkdir -p \"/content/.drive/My Drive/labo1\"\n",
        "mkdir -p \"/content/buckets\"\n",
        "ln -s \"/content/.drive/My Drive/labo1\" /content/buckets/b1\n",
        "\n",
        "mkdir -p ~/.kaggle\n",
        "cp /content/buckets/b1/kaggle/kaggle.json  ~/.kaggle\n",
        "chmod 600 ~/.kaggle/kaggle.json\n",
        "\n",
        "\n",
        "mkdir -p /content/buckets/b1/exp\n",
        "mkdir -p /content/buckets/b1/datasets\n",
        "mkdir -p /content/datasets\n",
        "\n",
        "\n",
        "\n",
        "archivo_origen=\"https://storage.googleapis.com/open-courses/austral2025-af91/dataset_pequeno.csv\"\n",
        "archivo_destino=\"/content/datasets/dataset_pequeno.csv\"\n",
        "archivo_destino_bucket=\"/content/buckets/b1/datasets/dataset_pequeno.csv\"\n",
        "\n",
        "if ! test -f $archivo_destino_bucket; then\n",
        "  wget  $archivo_origen  -O $archivo_destino_bucket\n",
        "fi\n",
        "\n",
        "\n",
        "if ! test -f $archivo_destino; then\n",
        "  cp  $archivo_destino_bucket  $archivo_destino\n",
        "fi"
      ],
      "metadata": {
        "id": "bLvS2uoBw3zp"
      },
      "execution_count": null,
      "outputs": []
    },
    {
      "cell_type": "code",
      "source": [
        "# limpio la memoria\n",
        "rm(list=ls(all.names=TRUE)) # remove all objects\n",
        "gc(full=TRUE, verbose=FALSE) # garbage collection"
      ],
      "metadata": {
        "id": "9ZnZb50Cw6iR"
      },
      "execution_count": null,
      "outputs": []
    },
    {
      "cell_type": "code",
      "source": [
        "principio <- Sys.time()\n",
        "format(Sys.time(), \"%a %b %d %X %Y\")"
      ],
      "metadata": {
        "id": "Zv-SeyZlw8UT"
      },
      "execution_count": null,
      "outputs": []
    },
    {
      "cell_type": "code",
      "source": [
        "# Cargar paquetes\n",
        "library(ParBayesianOptimization)\n",
        "# cargo las librerias que necesito\n",
        "require(\"data.table\")\n",
        "require(\"rpart\")"
      ],
      "metadata": {
        "id": "OB03QdKGw-Nz"
      },
      "execution_count": null,
      "outputs": []
    },
    {
      "cell_type": "code",
      "source": [
        "setwd(\"/content/buckets/b1/exp\")\n",
        "# lectura del dataset\n",
        "dataset <- fread(\"/content/datasets/dataset_pequeno.csv\")"
      ],
      "metadata": {
        "id": "z9lRnAF0xCTc"
      },
      "execution_count": null,
      "outputs": []
    },
    {
      "cell_type": "code",
      "source": [
        "# Cargar datos y preparar entorno\n",
        "set.seed(310019)\n",
        "dtrain <- dataset[foto_mes == 202107]\n",
        "dfuture <- dataset[foto_mes == 202109]\n",
        "campos_buenos <- setdiff(colnames(dtrain), \"clase_ternaria\")\n",
        "\n",
        "# 1. Modificación de la Función Objetivo\n",
        "# Se añade 'porc_columnas' como argumento.\n",
        "funcion_objetivo <- function(minsplit, minbucket, maxdepth, feature_fraction) {\n",
        "  resultados <- c()\n",
        "\n",
        "  for (i in 1:5) {\n",
        "    # Usar el argumento 'porc_columnas'\n",
        "    campos_random <- sample(campos_buenos, size = as.integer(length(campos_buenos) * feature_fraction))\n",
        "    formula <- as.formula(paste(\"clase_ternaria ~\", paste(campos_random, collapse = \" + \")))\n",
        "\n",
        "    # ... (el resto del código del rpart es el mismo) ...\n",
        "\n",
        "    modelo <- rpart(\n",
        "      formula = formula,\n",
        "      data = dtrain,\n",
        "      xval = 0,\n",
        "      control = rpart.control(\n",
        "        cp = -1,\n",
        "        minsplit = as.integer(minsplit),\n",
        "        minbucket = as.integer(minbucket),\n",
        "        maxdepth = as.integer(maxdepth)\n",
        "      )\n",
        "    )\n",
        "\n",
        "    pred <- predict(modelo, dfuture, type = \"prob\")[, \"BAJA+2\"]\n",
        "    resultados <- c(resultados, sum(pred, na.rm = TRUE))\n",
        "  }\n",
        "\n",
        "  return(list(Score = mean(resultados)))\n",
        "}\n",
        "\n",
        "# 2. Modificación del Llamado a bayesOpt\n",
        "# Se añade 'porc_columnas' a los 'bounds'\n",
        "optimizacion <- bayesOpt(\n",
        "  FUN = funcion_objetivo,\n",
        "  bounds = list(\n",
        "    minsplit = c(500L, 15000L),\n",
        "    minbucket = c(10L, 5000L),\n",
        "    maxdepth = c(4L, 30L),\n",
        "    feature_fraction = c(0.1, 0.9)\n",
        "  ),\n",
        "  initPoints = 10,\n",
        "  iters.n = 20,\n",
        "  acq = \"ucb\",\n",
        "  kappa = 2.576,\n",
        "  verbose = 1\n",
        ")"
      ],
      "metadata": {
        "id": "h8eTmilcxG3g"
      },
      "execution_count": null,
      "outputs": []
    },
    {
      "cell_type": "code",
      "source": [
        "# Mejores hiperparámetros y métrica\n",
        "# Mostrar mejores hiperparámetros\n",
        "print(getBestPars(optimizacion))"
      ],
      "metadata": {
        "id": "8gYqMQELxI7Y"
      },
      "execution_count": null,
      "outputs": []
    }
  ]
}